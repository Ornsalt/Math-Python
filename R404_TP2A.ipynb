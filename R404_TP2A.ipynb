{
 "cells": [
  {
   "cell_type": "markdown",
   "metadata": {},
   "source": [
    "# R1.04 Méthodes d'optimisation\n",
    "\n",
    "# TP2 A\n",
    "\n",
    "\n",
    "_Thibault Godin & Lucie Naert_\n",
    "\n",
    "_IUT de Vannes, BUT Informatique_\n",
    "\n",
    "\n",
    "\n",
    "# $\\mathbf{SAT}$ solver"
   ]
  },
  {
   "cell_type": "markdown",
   "metadata": {},
   "source": [
    " "
   ]
  },
  {
   "cell_type": "code",
   "execution_count": 1,
   "metadata": {},
   "outputs": [],
   "source": [
    "import numpy as np \n",
    "import pycosat\n",
    "import itertools\n",
    "import sys, getopt \n",
    "import time\n",
    "from pprint import pprint"
   ]
  },
  {
   "cell_type": "markdown",
   "metadata": {},
   "source": [
    "*********\n",
    "\n",
    "# $\\mathbf{ SAT}$\n",
    "\n",
    "\n",
    "En première année, vous avez vu les concepts d'assertions et de formules (booléennes) logiques. Par exemple la formule\n",
    "\n",
    "$$A :=  (\\neg P \\wedge Q) \\vee  (P\\wedge \\neg Q) $$\n",
    "\n",
    "\n",
    "qui a pour table de vérité <a name=\"cite_ref-1\"></a>[<sup>[1]</sup>](#cite_note-1) :\n",
    "\n",
    "\n",
    "|P|Q|A|\n",
    "| ------------- |:-------------:| -----:|\n",
    "|V|V|V|\n",
    "|V|F|F|\n",
    "|F|V|F|\n",
    "|F|F|V|\n",
    "\n",
    "\n",
    "Étant donnée une assertion $A$, on dira que l'assertion est _satisfaisable_ (satisfiable) s'il existe des valeurs de vérités pour les variables atomiques (ici $P$ et $Q$) telle que $A$ soit vraie. Dans notre exemple $A$ est satisfaisable, et un _témoin_ (witness) est le choix de valeurs $P=F$ et $Q=F$. \n",
    "\n",
    "\n",
    "La question _\"étant donnée une assertion logique $A$, déterminer si elle est satisfaisable\"_ est un problème majeur en informatique, appelé [SAT](https://fr.wikipedia.org/wiki/Probl%C3%A8me_SAT)\n",
    "\n",
    "\n",
    "*********\n",
    "\n",
    "\n",
    "**_question 1_**\n",
    "Déterminer si les assertions suivantes sont satisfaisables, et donner un témoin si elle le sont.\n",
    "\n",
    "\n",
    "- $A_1 :=  \\neg (P \\wedge Q) \\vee R $\n",
    "- $A_2 :=  \\neg (P \\wedge Q) \\vee P $\n",
    "- $A_3 :=  \\neg (P \\wedge Q \\wedge \\neg R) \\vee (P \\wedge R)$\n",
    "- $A_4 :=  P \\Longleftrightarrow Q \\vee \\neg(P \\wedge Q) $\n",
    "\n",
    "\n",
    "\n",
    "<a name=\"cite_note-1\"></a>1. [^](#cite_ref-1) On note généralement cet opérateur $P \\Longleftrightarrow Q$\n",
    "\n"
   ]
  },
  {
   "attachments": {},
   "cell_type": "markdown",
   "metadata": {},
   "source": [
    "- $A_1 := satisfaisables pour P ou Q = F ou R = V $\n",
    "- $A_2 := satisfaisables pour P ou Q = F ou P = V $\n",
    "- $A_3 := satisfaisables pour P ou Q = F ou R = V ou P, R = V $\n",
    "- $A_4 := satisfaisables pour P ou Q = F ou P = Q $"
   ]
  },
  {
   "cell_type": "markdown",
   "metadata": {},
   "source": [
    "*********\n",
    "\n",
    "## CNF\n",
    "\n",
    "Pour les problèmes de satisfiabilité, on a généralement un grand nombre de variables booléennes. On les notera généralement $x_1, x_2, \\dots, x_n$, et on dira que $n$ est la _taille_ de l'instance.\n",
    "De plus, on a vu en R1.06 que toute formule peut s'écrire à l'aide des seules opérations $\\neg, \\vee, \\wedge$, et l'on peut même exiger que les $\\neg$ ne porte que sur des propositions atomiques (les $x_i$).\n",
    "\n",
    "*********\n",
    "**_question 2_**\n",
    "\n",
    "Transformer les propositions suivantes de manière à n'utiliser que les opérations $\\neg, \\vee, \\wedge$, et que les $\\neg$ ne porte que sur des propositions atomiques.\n",
    "- $A_1 :=  \\neg (P \\wedge Q) \\vee P $\n",
    "- $A_1 :=  \\neg (P \\wedge Q \\wedge \\neg R) \\vee (P \\wedge R)$\n",
    "- $A_3 := \\neg (P \\Longleftarrow Q)$\n",
    "- $A_4 :=  P \\Longleftrightarrow Q \\vee \\neg(P \\wedge Q) $\n",
    "\n",
    "\n",
    "Pour faciliter la saisie des assertion, on va normaliser un peu plus encore<a name=\"cite_ref-3\"></a>[<sup>[3]</sup>](#cite_note-3) : on va demander à ce que nos formules soient des conjonctions (des \"et\") de disjonctions (des \"ou\") de variables. On appelle cette forme [CNF](https://fr.wikipedia.org/wiki/Forme_normale_conjonctive).\n",
    "\n",
    "Par exemple $(x_1 \\vee x_2 \\vee \\neg x_3) \\wedge (x_1 \\vee x_3)$ et  $(x_1 \\vee \\neg x_5 \\vee x_4) \\wedge (\\neg x_1 \\vee  x_5 \\vee x_3 \\vee x_4) \\wedge (\\neg x_3 \\vee \\neg x_4)$ est en CNF,\n",
    "tandis que $ \\neg(x_1 \\wedge x_2 \\wedge \\neg x_3) \\vee (x_1 \\wedge x_3)$ et $(x_1 \\wedge \\neg x_5 \\wedge x_4) \\vee  (\\neg x_1 \\wedge  x_5 \\wedge x_3 \\wedge x_4) \\vee  (\\neg x_3 \\wedge \\neg x_4)$ (le dernier exemple est en forme normale disjonctive, DNF)\n",
    "\n",
    "\n",
    "On appelera _clause_ les parties entre deux $\\wedge$'s consécutifs.\n",
    "\n",
    "<a name=\"cite_note-3\"></a>2. [^](#cite_ref-3) On peut aller encore plus loin en imposant que la formule soit une disjonction (un \"ou\") de conjonctions (des \"et\") d'au plus $3$ variables. On optient le problème [3-SAT](https://fr.wikipedia.org/wiki/Probl%C3%A8me_3-SAT) qui est équivalent au problème $\\mathbf{SAT}$\n"
   ]
  },
  {
   "attachments": {},
   "cell_type": "markdown",
   "metadata": {},
   "source": [
    "- $A_1 :=  \\neg P \\vee \\neg Q \\vee P $\n",
    "- $A_2 :=  \\neg P \\vee \\neg Q \\vee R \\vee (P \\wedge R)$\n",
    "- $A_3 := Q \\wedge \\neg P $\n",
    "- $A_4 :=  (\\neg P \\wedge Q) \\vee  (P\\wedge \\neg Q) \\vee \\neg P \\vee \\neg Q $"
   ]
  },
  {
   "attachments": {},
   "cell_type": "markdown",
   "metadata": {},
   "source": [
    "*********\n",
    "**_question 3_**\n",
    "\n",
    "Mettre les deux derniers exemples en CNF."
   ]
  },
  {
   "attachments": {},
   "cell_type": "markdown",
   "metadata": {},
   "source": [
    "- $A_3 := Q \\wedge \\neg P $\n",
    "- $A_4 :=  (P \\vee \\neg Q) \\wedge (\\neg P\\vee Q) \\wedge P \\wedge Q $"
   ]
  },
  {
   "cell_type": "markdown",
   "metadata": {},
   "source": [
    "*********\n",
    "**_question 4_**\n",
    "\n",
    "\n",
    "Essayer de résoudre quelques instances en CNF sur [SAT Game](http://www.cril.univ-artois.fr/~roussel/satgame/satgame.php?level=2&lang=fr)\n",
    "\n",
    "\n",
    "*********"
   ]
  },
  {
   "cell_type": "markdown",
   "metadata": {},
   "source": [
    "Une manière d'encoder une formule booléenne est la suivante : chaque clause est encodée dans un tableau d'entiers, la variable $x_5$ étant représentée par <tt>5</tt> et la variable $\\neg x_5$ étant représentée par <tt>-5</tt>\n",
    "\n",
    "\n",
    "Par exemple :"
   ]
  },
  {
   "cell_type": "code",
   "execution_count": 2,
   "metadata": {},
   "outputs": [],
   "source": [
    "cnf = [[1, -5, 4], [-1, 5, 3, 4], [-3, -4]]"
   ]
  },
  {
   "cell_type": "markdown",
   "metadata": {},
   "source": [
    "représente la formule \n",
    "\n",
    "\n",
    " $(x_1 \\vee \\neg x_5 \\vee x_4) \\wedge (\\neg x_1 \\vee  x_5 \\vee x_3 \\vee x_4) \\wedge (\\neg x_3 \\vee \\neg x_4)$ \n",
    " \n",
    " \n",
    "Ici, on a 5 variables et 3 clauses, la première clause étant $(x_1 \\vee \\neg x_5 \\vee x_4)$. \n",
    "\n",
    "*********\n",
    "\n",
    "\n",
    "On définit une fonction retournant le nombre de variables et de clauses d'une formule en CNF"
   ]
  },
  {
   "cell_type": "code",
   "execution_count": 3,
   "metadata": {},
   "outputs": [
    {
     "data": {
      "text/plain": [
       "(5, 3)"
      ]
     },
     "execution_count": 3,
     "metadata": {},
     "output_type": "execute_result"
    }
   ],
   "source": [
    "def cnflen(cnf):\n",
    "    #returns the number of variables and of clauses of a boolean formula given under CNF\n",
    "    return max([abs(max(max(cnf, key=max))),abs(min(min(cnf, key=min)))]),len(cnf)\n",
    "\n",
    "cnflen(cnf)\n",
    "\n"
   ]
  },
  {
   "cell_type": "markdown",
   "metadata": {},
   "source": [
    "*********\n",
    "\n",
    "# $\\mathbf{SAT}$-Solver\n",
    "\n",
    "\n",
    "\n",
    "La résolution algorithmique d'un problème $\\mathbf{SAT}$ est assez facile : on peut tester tous les cas possibles, jusqu'à ce que l'on trouve un témoin ou que l'on ait essayer toutes les combinaisons. Pour une instance de taille $n$ il \"suffit\" donc de tester $2^n$ cas.\n",
    "\n",
    "\n",
    "*********\n",
    "\n",
    "**_question 5_**\n",
    "\n",
    "\n",
    "Écrire une fonction qui prend en entrée une formule booléenne en CNF à  $n$ variables et un tableau de valeurs booléennes et retourne l'évaluation de la formule sur ces valeurs."
   ]
  },
  {
   "cell_type": "code",
   "execution_count": 4,
   "metadata": {},
   "outputs": [
    {
     "name": "stdout",
     "output_type": "stream",
     "text": [
      "(2, 2)\n",
      "False\n"
     ]
    }
   ],
   "source": [
    "\"\"\"\n",
    "TODO\n",
    "\"\"\"\n",
    "\n",
    "def Eval(cnf, wit):\n",
    "    n, c = cnflen(cnf)\n",
    "    tab = [0] * c\n",
    "    res = 1\n",
    "\n",
    "    for x in range(0, c):\n",
    "        for y in range(0, len(cnf[x])):\n",
    "                id = cnf[x][y]\n",
    "                tab[x] += wit[abs(id) - 1] if (id >= 0) else (wit[abs(id) - 1] == 0)\n",
    "        #print(tab[x])\n",
    "    for i in range(0, c):\n",
    "        res *= tab[i]\n",
    "    return (res != 0)\n",
    "\n",
    "#True             \n",
    "wit = [1, 0, 0, 0, 1]               \n",
    "cnf = [[1, -5, 4], [-1, 5, 3, 4], [-3, -4]]\n",
    "Eval(cnf, wit)\n",
    "\n",
    "#False\n",
    "wit=[0, 0, 1, 1, 0]               \n",
    "cnf = [[1, -5, 4], [-1, 5, 3, 4], [-3, -4]]\n",
    "Eval(cnf, wit)\n",
    "\n",
    "print(cnflen([[1],[2]]))\n",
    "print(Eval([[1],[2]],[1,0]))\n"
   ]
  },
  {
   "cell_type": "markdown",
   "metadata": {},
   "source": [
    "*********\n",
    "\n",
    "**_question 6_**\n",
    "\n",
    "\n",
    "Écrire une fonction qui essaie de resoudre une formule en CNF par force-brute (en essayant toutes les possibilités).\n",
    "_on pourra utiliser le module itertool.product de python_\n"
   ]
  },
  {
   "cell_type": "code",
   "execution_count": 5,
   "metadata": {},
   "outputs": [
    {
     "name": "stdout",
     "output_type": "stream",
     "text": [
      "True\n",
      "True\n",
      "True\n",
      "True\n",
      "False\n"
     ]
    }
   ],
   "source": [
    "\"\"\"\n",
    "TODO\n",
    "\"\"\"\n",
    "def bruteSAT(cnf):\n",
    "    n, c=cnflen(cnf)\n",
    "    \n",
    "    for wit in itertools.product([0, 1], repeat=n):\n",
    "        if Eval(cnf,wit):\n",
    "            return (True)\n",
    "    return (False)\n",
    "\n",
    "\n",
    "print(bruteSAT(cnf))\n",
    "print(bruteSAT([[1,2]]))\n",
    "print(bruteSAT([[1],[2]]))\n",
    "print(bruteSAT([[1,2],[-1,2],[1,-2]]))\n",
    "print(bruteSAT([[1,2],[-1,2],[1,-2],[-1,-2]]))"
   ]
  },
  {
   "cell_type": "markdown",
   "metadata": {},
   "source": [
    "*********\n",
    "\n",
    "## PycoSAT\n",
    "\n",
    "On ne sait pas aujourd'hui s'il existe un algorithme polynômial (_ie_ s'executant en temps raisonnable) pour résoudre $\\mathbf{SAT}$. Cependant ce problème, bien qu'abstrait et théorique, est central en informatique ;  et on peut résoudre beaucoup de problèmes (semblant pourtant complétement différent) en les traduisant en des formules logiques.\n",
    "On verra partie 2 l'exemple du Sudoku, mais bien d'autre (3-coloration, emplois du temps ...) pourraient être ainsi résolus <a name=\"cite_ref-2\"></a>[<sup>[2]</sup>](#cite_note-2) de [problèmes](https://fr.wikipedia.org/wiki/Liste_de_probl%C3%A8mes_NP-complets) se réduisent (_ie_ peuvent être résolus grâce) à $\\mathbf{SAT}$ (plus précisément à $\\mathbf{3-SAT}$, qui [sert de référence](https://fr.wikipedia.org/wiki/Probl%C3%A8me_3-SAT) pour la [$\\mathbf{NP}$-complétude](https://fr.wikipedia.org/wiki/Probl%C3%A8me_NP-complet))\n",
    "\n",
    "\n",
    "\n",
    "\n",
    "\n",
    "<a name=\"cite_note-2\"></a>2. [^](#cite_ref-2) les problèmes polynomiaux peuvent aussi être résolu par $\\mathbf{SAT}$, ce n'est cependant pas pertinent pusiqu'ils sont justement polynomiaux tandis que $\\mathbf{SAT}$ peut être exponentiel (sauf si $\\mathbf{P} = \\mathbf{NP})$\n",
    "\n",
    "*********"
   ]
  },
  {
   "cell_type": "markdown",
   "metadata": {},
   "source": [
    "\n",
    "En raison de cette importance, de nombreuses personnes cherchent à optimiser la résolution de formule, en créant des[SAT-Solver](https://en.wikipedia.org/wiki/SAT_solver) les plus efficaces possibles.\n",
    "\n",
    "Dans ce TP, nous allons utiliser **pycosat**\n",
    "https://pypi.org/project/pycosat/\n",
    "\n",
    "La syntaxe de pycosat est légérement différente de la notre, comme le montre l'exemple suivant :\n"
   ]
  },
  {
   "cell_type": "code",
   "execution_count": 6,
   "metadata": {},
   "outputs": [
    {
     "data": {
      "text/plain": [
       "[1, -2, -3, -4, 5]"
      ]
     },
     "execution_count": 6,
     "metadata": {},
     "output_type": "execute_result"
    }
   ],
   "source": [
    "pycosat.solve(cnf)"
   ]
  },
  {
   "cell_type": "markdown",
   "metadata": {},
   "source": [
    "*********\n",
    "\n",
    "\n",
    "# Sudoku\n",
    "\n",
    "\n",
    "Le problème général (sur une grille $n\\times n$) du sudoku est $\\mathbf{NP}$-complet, on ne connait pas d'algorithme efficace pour le résoudre.\n",
    "Une approche classique de résolution est le _backtracking_, nous allons de nôtre côté utiliser pycosat.\n",
    "\n",
    "On se donne quelques grilles d'exemple (vous pouvez créer les vôtres)."
   ]
  },
  {
   "cell_type": "code",
   "execution_count": 55,
   "metadata": {},
   "outputs": [],
   "source": [
    "easy = [[0, 0, 0, 1, 0, 9, 4, 2, 7],\n",
    "        [1, 0, 9, 8, 0, 0, 0, 0, 6],\n",
    "        [0, 0, 7, 0, 5, 0, 1, 0, 8],\n",
    "        [0, 5, 6, 0, 0, 0, 0, 8, 2],\n",
    "        [0, 0, 0, 0, 2, 0, 0, 0, 0],\n",
    "        [9, 4, 0, 0, 0, 0, 6, 1, 0],\n",
    "        [7, 0, 4, 0, 6, 0, 9, 0, 0],\n",
    "        [6, 0, 0, 0, 0, 8, 2, 0, 5],\n",
    "        [2, 9, 5, 3, 0, 1, 0, 0, 0]]\n",
    "\n",
    "medium = [[5, 8, 0, 0, 0, 1, 0, 0, 0],\n",
    "        [0, 3, 0, 0, 6, 0, 0, 7, 0],\n",
    "        [9, 0, 0, 3, 2, 0, 1, 0, 6],\n",
    "        [0, 0, 0, 0, 0, 0, 0, 5, 0],\n",
    "        [3, 0, 9, 0, 0, 0, 2, 0, 1],\n",
    "        [0, 5, 0, 0, 0, 0, 0, 0, 0],\n",
    "        [6, 0, 2, 0, 5, 7, 0, 0, 8],\n",
    "        [0, 4, 0, 0, 8, 0, 0, 1, 0],\n",
    "        [0, 0, 0, 1, 0, 0, 0, 6, 5]]\n",
    "\n",
    "evil = [[0, 2, 0, 0, 0, 0, 0, 0, 0],\n",
    "        [0, 0, 0, 6, 0, 0, 0, 0, 3],\n",
    "        [0, 7, 4, 0, 8, 0, 0, 0, 0],\n",
    "        [0, 0, 0, 0, 0, 3, 0, 0, 2],\n",
    "        [0, 8, 0, 0, 4, 0, 0, 1, 0],\n",
    "        [6, 0, 0, 5, 0, 0, 0, 0, 0],\n",
    "        [0, 0, 0, 0, 1, 0, 7, 8, 0],\n",
    "        [5, 0, 0, 0, 0, 9, 0, 0, 0],\n",
    "        [0, 0, 0, 0, 0, 0, 0, 4, 0]]\n",
    "\n",
    "hard = [[0, 2, 0, 0, 0, 0, 0, 3, 0],\n",
    "        [0, 0, 0, 6, 0, 1, 0, 0, 0],\n",
    "        [0, 6, 8, 2, 0, 0, 0, 0, 5],\n",
    "        [0, 0, 9, 0, 0, 8, 3, 0, 0],\n",
    "        [0, 4, 6, 0, 0, 0, 7, 5, 0],\n",
    "        [0, 0, 1, 3, 0, 0, 4, 0, 0],\n",
    "        [9, 0, 0, 0, 0, 7, 5, 1, 0],\n",
    "        [0, 0, 0, 1, 0, 4, 0, 0, 0],\n",
    "        [0, 1, 0, 0, 0, 0, 0, 9, 0]]\n",
    "\n",
    "blank = [[0, 0, 0, 0, 0, 0, 0, 0, 0],\n",
    "        [0, 0, 0, 0, 0, 0, 0, 0, 0],\n",
    "        [0, 0, 0, 0, 0, 0, 0, 0, 0],\n",
    "        [0, 0, 0, 0, 0, 0, 0, 0, 0],\n",
    "        [0, 0, 0, 0, 0, 0, 0, 0, 0],\n",
    "        [0, 0, 0, 0, 0, 0, 0, 0, 0],\n",
    "        [0, 0, 0, 0, 0, 0, 0, 0, 0],\n",
    "        [0, 0, 0, 0, 0, 0, 0, 0, 0],\n",
    "        [0, 0, 0, 0, 0, 0, 0, 0, 0]]"
   ]
  },
  {
   "cell_type": "markdown",
   "metadata": {},
   "source": [
    "On va encoder une grille de la manière suivante : \n",
    "la variable $v_{(i,j,d)}$ représente \"la cellule ligne $i$ colonne $j$ contient le chiffre $d$\". Malheuresement c'est une représentation $3$d, et nos CNF sont $1$d, on va donc faire la transformation\n",
    "\n",
    "$v_{(i,j,d)} \\leadsto x_{81*(i-1) + 9*(j-1) + d}$\n"
   ]
  },
  {
   "cell_type": "code",
   "execution_count": 50,
   "metadata": {},
   "outputs": [],
   "source": [
    "#variable \"the cell i,j contains digit d\"\n",
    "#example:  340 -> 81*(5-1) + 9*(2-1) + 7 means cell at row 5 and column 2 contains a 7\n",
    "\n",
    "def v(i, j, d): \n",
    "    return 81 * (i - 1) + 9 * (j - 1) + d\n",
    "\n",
    "\n",
    "def read_cell(sol,i, j):\n",
    "    # return the digit of cell i, j according to the solution\n",
    "    for d in range(1, 10):\n",
    "        if v(i, j, d) in sol:\n",
    "            return d"
   ]
  },
  {
   "cell_type": "markdown",
   "metadata": {},
   "source": [
    "**_question 7_**\n",
    "\n",
    "Écrire une fonction qui créé la CNF \"sudoku\" (sans contraintes)"
   ]
  },
  {
   "cell_type": "code",
   "execution_count": 49,
   "metadata": {},
   "outputs": [],
   "source": [
    "        \n",
    "        \n",
    "def clause(res, cells):\n",
    "    #add clauses to res such that each cell in cells has a diff value\n",
    "    for i, xi in enumerate(cells):\n",
    "        for j, xj in enumerate(cells):\n",
    "            if i < j:\n",
    "                for d in range(1, 10):\n",
    "                    res.append([-v(xi[0], xi[1], d), -v(xj[0], xj[1], d)])\n",
    "    return res"
   ]
  },
  {
   "cell_type": "code",
   "execution_count": 48,
   "metadata": {},
   "outputs": [],
   "source": [
    "def sudoku_clauses(): \n",
    "    res = []\n",
    "\n",
    "    for i in range(1,10): \n",
    "        for j in range(1,10):\n",
    "            res.append([v(i, j, d) for d in range(1,10)])\n",
    "            for d in range(1,10):\n",
    "                for dp in range(1,10):\n",
    "                    if d!=dp:\n",
    "                        res.append([-v(i,j,d) , -v(i,j,dp)])\n",
    "    \n",
    "    for i in range(1,10):\n",
    "        res=clause(res,[(i,j) for j in range(1,10)]) #row\n",
    "        res=clause(res,[(j,i) for j in range(1,10)]) #colum\n",
    "    \n",
    "    for i in 1, 4, 7: \n",
    "        for j in 1,4,7:\n",
    "            res=clause(res,[(i + k % 3,j + k // 3) for k in range(9)])\n",
    "      \n",
    "   \n",
    "    \n",
    "    return res\n",
    "\n",
    "\n",
    "def gridToCNF(grid=blank):\n",
    "    #turns a grid into a CNF\n",
    "    clauses = sudoku_clauses()\n",
    "    \n",
    "    for i in range(1,10):\n",
    "        for j in range(1,10):\n",
    "            d = grid[i - 1][j - 1]\n",
    "            if d:\n",
    "                clauses.append([v(i, j, d)])\n",
    "    \n",
    "    return clauses\n",
    "\n",
    "def solve(grid=blank):\n",
    "\n",
    "    # solve the SAT problem\n",
    "    \n",
    "    clauses =gridToCNF(grid)\n",
    "    start = time.time()\n",
    "    sol = set(pycosat.solve(clauses))\n",
    "    end = time.time()\n",
    "    print(\"Time: \"+str(end - start))\n",
    "    \n",
    "\n",
    "\n",
    "    for i in range(1, 10):\n",
    "        for j in range(1, 10):\n",
    "            grid[i - 1][j - 1] = read_cell(sol,i, j)\n",
    "\n",
    "            \n",
    "            \n",
    "def solve_problem(problemset):\n",
    "    print('Problem:') \n",
    "    pprint(problemset)  \n",
    "    solve(problemset) \n",
    "    print('Answer:')\n",
    "    pprint(problemset)"
   ]
  },
  {
   "cell_type": "code",
   "execution_count": 56,
   "metadata": {},
   "outputs": [
    {
     "name": "stdout",
     "output_type": "stream",
     "text": [
      "Problem:\n",
      "[[0, 2, 0, 0, 0, 0, 0, 3, 0],\n",
      " [0, 0, 0, 6, 0, 1, 0, 0, 0],\n",
      " [0, 6, 8, 2, 0, 0, 0, 0, 5],\n",
      " [0, 0, 9, 0, 0, 8, 3, 0, 0],\n",
      " [0, 4, 6, 0, 0, 0, 7, 5, 0],\n",
      " [0, 0, 1, 3, 0, 0, 4, 0, 0],\n",
      " [9, 0, 0, 0, 0, 7, 5, 1, 0],\n",
      " [0, 0, 0, 1, 0, 4, 0, 0, 0],\n",
      " [0, 1, 0, 0, 0, 0, 0, 9, 0]]\n",
      "Time: 0.003002643585205078\n",
      "Answer:\n",
      "[[1, 2, 7, 4, 8, 5, 9, 3, 6],\n",
      " [5, 9, 3, 6, 7, 1, 8, 4, 2],\n",
      " [4, 6, 8, 2, 3, 9, 1, 7, 5],\n",
      " [2, 5, 9, 7, 4, 8, 3, 6, 1],\n",
      " [3, 4, 6, 9, 1, 2, 7, 5, 8],\n",
      " [7, 8, 1, 3, 5, 6, 4, 2, 9],\n",
      " [9, 3, 2, 8, 6, 7, 5, 1, 4],\n",
      " [6, 7, 5, 1, 9, 4, 2, 8, 3],\n",
      " [8, 1, 4, 5, 2, 3, 6, 9, 7]]\n"
     ]
    }
   ],
   "source": [
    "solve_problem(hard)"
   ]
  },
  {
   "cell_type": "code",
   "execution_count": 57,
   "metadata": {},
   "outputs": [
    {
     "name": "stdout",
     "output_type": "stream",
     "text": [
      "Time: 0.003161191940307617\n"
     ]
    }
   ],
   "source": [
    "pblm = gridToCNF(blank)\n",
    "\n",
    "start = time.time()\n",
    "sol = set(pycosat.solve(pblm))\n",
    "end = time.time()\n",
    "print(\"Time: \"+str(end - start))"
   ]
  },
  {
   "cell_type": "code",
   "execution_count": 58,
   "metadata": {},
   "outputs": [],
   "source": [
    "start = time.time()\n",
    "sol = bruteSAT(pblm)\n",
    "end = time.time()\n",
    "print(\"Time: \"+str(end - start))"
   ]
  },
  {
   "cell_type": "markdown",
   "metadata": {},
   "source": [
    "## Multiple solutions\n",
    "\n",
    "\n"
   ]
  },
  {
   "cell_type": "code",
   "execution_count": null,
   "metadata": {},
   "outputs": [
    {
     "name": "stdout",
     "output_type": "stream",
     "text": [
      "[1, -2, -3, -4, 5]\n",
      "[1, -2, -3, 4, -5]\n",
      "[1, -2, -3, 4, 5]\n",
      "[1, -2, 3, -4, -5]\n",
      "[1, -2, 3, -4, 5]\n",
      "[1, 2, 3, -4, -5]\n",
      "[1, 2, 3, -4, 5]\n",
      "[1, 2, -3, -4, 5]\n",
      "[1, 2, -3, 4, -5]\n",
      "[1, 2, -3, 4, 5]\n",
      "[-1, 2, -3, 4, -5]\n",
      "[-1, 2, -3, 4, 5]\n",
      "[-1, 2, -3, -4, -5]\n",
      "[-1, 2, 3, -4, -5]\n",
      "[-1, -2, 3, -4, -5]\n",
      "[-1, -2, -3, -4, -5]\n",
      "[-1, -2, -3, 4, 5]\n",
      "[-1, -2, -3, 4, -5]\n"
     ]
    }
   ],
   "source": [
    "for sol in pycosat.itersolve(cnf):\n",
    "    print(sol)"
   ]
  },
  {
   "cell_type": "markdown",
   "metadata": {},
   "source": [
    "### Extensions suggérées :\n",
    "\n",
    "\n",
    "#### Génération aléatoire de grilles (résolubles)\n",
    "\n",
    "à l'aide des algorithmes précédents, écrire une fonction engendrant des grilles partielles de sudoku (résolubles)\n",
    "\n",
    "\n",
    "\n",
    "#### 3-Coloriage\n",
    "\n",
    "De nombreux problèmes importants en informatique (les problèmes inclus dans $\\mathbf{NP}$ sont _réductibles_ à 3-SAT, c'est-à-dire qu'on peut les convertir en un problème 3-SAT et vis-et-versa (en temps polynomial, avec un nombre de d'inconnues polynomial). \n",
    "\n",
    "On peut donc (essayer de) résoudre de nombreux problème avec 3-SAT. Parmi eux la 3-coloration (étant donné un graphe $G$, admet-il une 3 coloration ?)\n",
    "\n",
    "Écrire un programme qui, étant donné un graphe $G$ transforme 3-col en 3-SAT, résout le prolème à l'aide d'un SAT-solver, puis donne la solution en terme de graphe).\n",
    "\n",
    "\n",
    "_note :_ Pour le sens inverse, vous pouvez vous référer à https://cgi.csc.liv.ac.uk/~igor/COMP309/3CP.pdf par exemple"
   ]
  },
  {
   "cell_type": "code",
   "execution_count": null,
   "metadata": {},
   "outputs": [],
   "source": []
  }
 ],
 "metadata": {
  "kernelspec": {
   "display_name": "Python 3",
   "language": "python",
   "name": "python3"
  },
  "language_info": {
   "codemirror_mode": {
    "name": "ipython",
    "version": 3
   },
   "file_extension": ".py",
   "mimetype": "text/x-python",
   "name": "python",
   "nbconvert_exporter": "python",
   "pygments_lexer": "ipython3",
   "version": "3.10.7"
  },
  "vscode": {
   "interpreter": {
    "hash": "916dbcbb3f70747c44a77c7bcd40155683ae19c65e1c03b4aa3499c5328201f1"
   }
  }
 },
 "nbformat": 4,
 "nbformat_minor": 4
}
